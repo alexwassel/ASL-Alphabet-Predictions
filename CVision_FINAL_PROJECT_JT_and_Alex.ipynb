{
  "nbformat": 4,
  "nbformat_minor": 0,
  "metadata": {
    "colab": {
      "name": "CVision FINAL PROJECT JT and Alex.ipynb",
      "provenance": [],
      "collapsed_sections": []
    },
    "kernelspec": {
      "name": "python3",
      "display_name": "Python 3"
    }
  },
  "cells": [
    {
      "cell_type": "markdown",
      "metadata": {
        "id": "Jlff81UQAjKM",
        "colab_type": "text"
      },
      "source": [
        "**JT Graass and Alex Wassel's Computer Vision Final Project**"
      ]
    },
    {
      "cell_type": "markdown",
      "metadata": {
        "id": "Ttn1L-1lEdKB",
        "colab_type": "text"
      },
      "source": [
        "# **Data Preparation and Cleaning**"
      ]
    },
    {
      "cell_type": "markdown",
      "metadata": {
        "id": "vpMDmcL3nXJm",
        "colab_type": "text"
      },
      "source": [
        "We used the MNIST Sign Language dataset from Kaggle. These images of hands in various letter formations have only one color channel."
      ]
    },
    {
      "cell_type": "code",
      "metadata": {
        "id": "cixnUI2KjfYe",
        "colab_type": "code",
        "colab": {}
      },
      "source": [
        "import numpy as np\n",
        "import tensorflow as tf\n",
        "# from datasets import sign_language\n",
        "import matplotlib.pyplot as plt\n",
        "np.random.seed(42)\n",
        "# import kaggle\n",
        "import pandas as pd\n",
        "from sklearn.model_selection import train_test_split\n",
        "from keras.models import load_model\n",
        "from keras import optimizers\n",
        "from keras import losses\n",
        "from keras.models import Sequential\n",
        "from keras.layers import Dense, Activation, Flatten\n",
        "from keras.utils import to_categorical\n",
        "from keras.layers import Dropout\n",
        "from keras.layers import Convolution2D, MaxPooling2D\n",
        "from keras import backend as K\n",
        "from keras.layers import Conv2D, Flatten, MaxPooling2D, Dense, Dropout"
      ],
      "execution_count": 0,
      "outputs": []
    },
    {
      "cell_type": "code",
      "metadata": {
        "id": "xy08eVOkjueB",
        "colab_type": "code",
        "colab": {}
      },
      "source": [
        "train = pd.read_csv('./sign_mnist_train.csv')\n",
        "test = pd.read_csv('./sign_mnist_test.csv')"
      ],
      "execution_count": 0,
      "outputs": []
    },
    {
      "cell_type": "code",
      "metadata": {
        "id": "WPgnEmtHnMhG",
        "colab_type": "code",
        "outputId": "8bd88871-189d-4ed0-e7ed-9fd6fed40d62",
        "colab": {
          "base_uri": "https://localhost:8080/",
          "height": 253
        }
      },
      "source": [
        "test.head()"
      ],
      "execution_count": 209,
      "outputs": [
        {
          "output_type": "execute_result",
          "data": {
            "text/html": [
              "<div>\n",
              "<style scoped>\n",
              "    .dataframe tbody tr th:only-of-type {\n",
              "        vertical-align: middle;\n",
              "    }\n",
              "\n",
              "    .dataframe tbody tr th {\n",
              "        vertical-align: top;\n",
              "    }\n",
              "\n",
              "    .dataframe thead th {\n",
              "        text-align: right;\n",
              "    }\n",
              "</style>\n",
              "<table border=\"1\" class=\"dataframe\">\n",
              "  <thead>\n",
              "    <tr style=\"text-align: right;\">\n",
              "      <th></th>\n",
              "      <th>label</th>\n",
              "      <th>pixel1</th>\n",
              "      <th>pixel2</th>\n",
              "      <th>pixel3</th>\n",
              "      <th>pixel4</th>\n",
              "      <th>pixel5</th>\n",
              "      <th>pixel6</th>\n",
              "      <th>pixel7</th>\n",
              "      <th>pixel8</th>\n",
              "      <th>pixel9</th>\n",
              "      <th>pixel10</th>\n",
              "      <th>pixel11</th>\n",
              "      <th>pixel12</th>\n",
              "      <th>pixel13</th>\n",
              "      <th>pixel14</th>\n",
              "      <th>pixel15</th>\n",
              "      <th>pixel16</th>\n",
              "      <th>pixel17</th>\n",
              "      <th>pixel18</th>\n",
              "      <th>pixel19</th>\n",
              "      <th>pixel20</th>\n",
              "      <th>pixel21</th>\n",
              "      <th>pixel22</th>\n",
              "      <th>pixel23</th>\n",
              "      <th>pixel24</th>\n",
              "      <th>pixel25</th>\n",
              "      <th>pixel26</th>\n",
              "      <th>pixel27</th>\n",
              "      <th>pixel28</th>\n",
              "      <th>pixel29</th>\n",
              "      <th>pixel30</th>\n",
              "      <th>pixel31</th>\n",
              "      <th>pixel32</th>\n",
              "      <th>pixel33</th>\n",
              "      <th>pixel34</th>\n",
              "      <th>pixel35</th>\n",
              "      <th>pixel36</th>\n",
              "      <th>pixel37</th>\n",
              "      <th>pixel38</th>\n",
              "      <th>pixel39</th>\n",
              "      <th>...</th>\n",
              "      <th>pixel745</th>\n",
              "      <th>pixel746</th>\n",
              "      <th>pixel747</th>\n",
              "      <th>pixel748</th>\n",
              "      <th>pixel749</th>\n",
              "      <th>pixel750</th>\n",
              "      <th>pixel751</th>\n",
              "      <th>pixel752</th>\n",
              "      <th>pixel753</th>\n",
              "      <th>pixel754</th>\n",
              "      <th>pixel755</th>\n",
              "      <th>pixel756</th>\n",
              "      <th>pixel757</th>\n",
              "      <th>pixel758</th>\n",
              "      <th>pixel759</th>\n",
              "      <th>pixel760</th>\n",
              "      <th>pixel761</th>\n",
              "      <th>pixel762</th>\n",
              "      <th>pixel763</th>\n",
              "      <th>pixel764</th>\n",
              "      <th>pixel765</th>\n",
              "      <th>pixel766</th>\n",
              "      <th>pixel767</th>\n",
              "      <th>pixel768</th>\n",
              "      <th>pixel769</th>\n",
              "      <th>pixel770</th>\n",
              "      <th>pixel771</th>\n",
              "      <th>pixel772</th>\n",
              "      <th>pixel773</th>\n",
              "      <th>pixel774</th>\n",
              "      <th>pixel775</th>\n",
              "      <th>pixel776</th>\n",
              "      <th>pixel777</th>\n",
              "      <th>pixel778</th>\n",
              "      <th>pixel779</th>\n",
              "      <th>pixel780</th>\n",
              "      <th>pixel781</th>\n",
              "      <th>pixel782</th>\n",
              "      <th>pixel783</th>\n",
              "      <th>pixel784</th>\n",
              "    </tr>\n",
              "  </thead>\n",
              "  <tbody>\n",
              "    <tr>\n",
              "      <th>0</th>\n",
              "      <td>6</td>\n",
              "      <td>149</td>\n",
              "      <td>149</td>\n",
              "      <td>150</td>\n",
              "      <td>150</td>\n",
              "      <td>150</td>\n",
              "      <td>151</td>\n",
              "      <td>151</td>\n",
              "      <td>150</td>\n",
              "      <td>151</td>\n",
              "      <td>152</td>\n",
              "      <td>152</td>\n",
              "      <td>152</td>\n",
              "      <td>152</td>\n",
              "      <td>152</td>\n",
              "      <td>153</td>\n",
              "      <td>153</td>\n",
              "      <td>151</td>\n",
              "      <td>152</td>\n",
              "      <td>152</td>\n",
              "      <td>153</td>\n",
              "      <td>152</td>\n",
              "      <td>152</td>\n",
              "      <td>151</td>\n",
              "      <td>151</td>\n",
              "      <td>150</td>\n",
              "      <td>150</td>\n",
              "      <td>150</td>\n",
              "      <td>149</td>\n",
              "      <td>150</td>\n",
              "      <td>150</td>\n",
              "      <td>150</td>\n",
              "      <td>152</td>\n",
              "      <td>152</td>\n",
              "      <td>151</td>\n",
              "      <td>152</td>\n",
              "      <td>152</td>\n",
              "      <td>152</td>\n",
              "      <td>152</td>\n",
              "      <td>152</td>\n",
              "      <td>...</td>\n",
              "      <td>131</td>\n",
              "      <td>134</td>\n",
              "      <td>144</td>\n",
              "      <td>147</td>\n",
              "      <td>125</td>\n",
              "      <td>87</td>\n",
              "      <td>87</td>\n",
              "      <td>103</td>\n",
              "      <td>107</td>\n",
              "      <td>110</td>\n",
              "      <td>116</td>\n",
              "      <td>113</td>\n",
              "      <td>75</td>\n",
              "      <td>74</td>\n",
              "      <td>74</td>\n",
              "      <td>74</td>\n",
              "      <td>76</td>\n",
              "      <td>74</td>\n",
              "      <td>82</td>\n",
              "      <td>134</td>\n",
              "      <td>168</td>\n",
              "      <td>155</td>\n",
              "      <td>146</td>\n",
              "      <td>137</td>\n",
              "      <td>145</td>\n",
              "      <td>146</td>\n",
              "      <td>149</td>\n",
              "      <td>135</td>\n",
              "      <td>124</td>\n",
              "      <td>125</td>\n",
              "      <td>138</td>\n",
              "      <td>148</td>\n",
              "      <td>127</td>\n",
              "      <td>89</td>\n",
              "      <td>82</td>\n",
              "      <td>96</td>\n",
              "      <td>106</td>\n",
              "      <td>112</td>\n",
              "      <td>120</td>\n",
              "      <td>107</td>\n",
              "    </tr>\n",
              "    <tr>\n",
              "      <th>1</th>\n",
              "      <td>5</td>\n",
              "      <td>126</td>\n",
              "      <td>128</td>\n",
              "      <td>131</td>\n",
              "      <td>132</td>\n",
              "      <td>133</td>\n",
              "      <td>134</td>\n",
              "      <td>135</td>\n",
              "      <td>135</td>\n",
              "      <td>136</td>\n",
              "      <td>138</td>\n",
              "      <td>137</td>\n",
              "      <td>137</td>\n",
              "      <td>138</td>\n",
              "      <td>138</td>\n",
              "      <td>139</td>\n",
              "      <td>137</td>\n",
              "      <td>142</td>\n",
              "      <td>140</td>\n",
              "      <td>138</td>\n",
              "      <td>139</td>\n",
              "      <td>137</td>\n",
              "      <td>137</td>\n",
              "      <td>136</td>\n",
              "      <td>135</td>\n",
              "      <td>134</td>\n",
              "      <td>133</td>\n",
              "      <td>134</td>\n",
              "      <td>132</td>\n",
              "      <td>129</td>\n",
              "      <td>132</td>\n",
              "      <td>134</td>\n",
              "      <td>135</td>\n",
              "      <td>135</td>\n",
              "      <td>137</td>\n",
              "      <td>139</td>\n",
              "      <td>139</td>\n",
              "      <td>139</td>\n",
              "      <td>140</td>\n",
              "      <td>141</td>\n",
              "      <td>...</td>\n",
              "      <td>114</td>\n",
              "      <td>112</td>\n",
              "      <td>89</td>\n",
              "      <td>48</td>\n",
              "      <td>133</td>\n",
              "      <td>194</td>\n",
              "      <td>182</td>\n",
              "      <td>185</td>\n",
              "      <td>184</td>\n",
              "      <td>184</td>\n",
              "      <td>182</td>\n",
              "      <td>181</td>\n",
              "      <td>172</td>\n",
              "      <td>174</td>\n",
              "      <td>177</td>\n",
              "      <td>178</td>\n",
              "      <td>178</td>\n",
              "      <td>179</td>\n",
              "      <td>181</td>\n",
              "      <td>183</td>\n",
              "      <td>187</td>\n",
              "      <td>175</td>\n",
              "      <td>165</td>\n",
              "      <td>154</td>\n",
              "      <td>118</td>\n",
              "      <td>107</td>\n",
              "      <td>100</td>\n",
              "      <td>75</td>\n",
              "      <td>96</td>\n",
              "      <td>83</td>\n",
              "      <td>47</td>\n",
              "      <td>104</td>\n",
              "      <td>194</td>\n",
              "      <td>183</td>\n",
              "      <td>186</td>\n",
              "      <td>184</td>\n",
              "      <td>184</td>\n",
              "      <td>184</td>\n",
              "      <td>182</td>\n",
              "      <td>180</td>\n",
              "    </tr>\n",
              "    <tr>\n",
              "      <th>2</th>\n",
              "      <td>10</td>\n",
              "      <td>85</td>\n",
              "      <td>88</td>\n",
              "      <td>92</td>\n",
              "      <td>96</td>\n",
              "      <td>105</td>\n",
              "      <td>123</td>\n",
              "      <td>135</td>\n",
              "      <td>143</td>\n",
              "      <td>147</td>\n",
              "      <td>152</td>\n",
              "      <td>157</td>\n",
              "      <td>163</td>\n",
              "      <td>168</td>\n",
              "      <td>171</td>\n",
              "      <td>182</td>\n",
              "      <td>172</td>\n",
              "      <td>175</td>\n",
              "      <td>185</td>\n",
              "      <td>183</td>\n",
              "      <td>184</td>\n",
              "      <td>185</td>\n",
              "      <td>185</td>\n",
              "      <td>185</td>\n",
              "      <td>183</td>\n",
              "      <td>183</td>\n",
              "      <td>182</td>\n",
              "      <td>181</td>\n",
              "      <td>178</td>\n",
              "      <td>86</td>\n",
              "      <td>88</td>\n",
              "      <td>93</td>\n",
              "      <td>96</td>\n",
              "      <td>108</td>\n",
              "      <td>125</td>\n",
              "      <td>137</td>\n",
              "      <td>145</td>\n",
              "      <td>149</td>\n",
              "      <td>154</td>\n",
              "      <td>160</td>\n",
              "      <td>...</td>\n",
              "      <td>145</td>\n",
              "      <td>123</td>\n",
              "      <td>78</td>\n",
              "      <td>162</td>\n",
              "      <td>239</td>\n",
              "      <td>227</td>\n",
              "      <td>229</td>\n",
              "      <td>226</td>\n",
              "      <td>226</td>\n",
              "      <td>225</td>\n",
              "      <td>224</td>\n",
              "      <td>222</td>\n",
              "      <td>89</td>\n",
              "      <td>91</td>\n",
              "      <td>94</td>\n",
              "      <td>111</td>\n",
              "      <td>136</td>\n",
              "      <td>154</td>\n",
              "      <td>167</td>\n",
              "      <td>184</td>\n",
              "      <td>125</td>\n",
              "      <td>3</td>\n",
              "      <td>166</td>\n",
              "      <td>225</td>\n",
              "      <td>195</td>\n",
              "      <td>188</td>\n",
              "      <td>172</td>\n",
              "      <td>185</td>\n",
              "      <td>161</td>\n",
              "      <td>122</td>\n",
              "      <td>68</td>\n",
              "      <td>166</td>\n",
              "      <td>242</td>\n",
              "      <td>227</td>\n",
              "      <td>230</td>\n",
              "      <td>227</td>\n",
              "      <td>226</td>\n",
              "      <td>225</td>\n",
              "      <td>224</td>\n",
              "      <td>222</td>\n",
              "    </tr>\n",
              "    <tr>\n",
              "      <th>3</th>\n",
              "      <td>0</td>\n",
              "      <td>203</td>\n",
              "      <td>205</td>\n",
              "      <td>207</td>\n",
              "      <td>206</td>\n",
              "      <td>207</td>\n",
              "      <td>209</td>\n",
              "      <td>210</td>\n",
              "      <td>209</td>\n",
              "      <td>210</td>\n",
              "      <td>209</td>\n",
              "      <td>208</td>\n",
              "      <td>207</td>\n",
              "      <td>207</td>\n",
              "      <td>209</td>\n",
              "      <td>208</td>\n",
              "      <td>210</td>\n",
              "      <td>210</td>\n",
              "      <td>207</td>\n",
              "      <td>209</td>\n",
              "      <td>209</td>\n",
              "      <td>208</td>\n",
              "      <td>209</td>\n",
              "      <td>210</td>\n",
              "      <td>209</td>\n",
              "      <td>207</td>\n",
              "      <td>208</td>\n",
              "      <td>209</td>\n",
              "      <td>207</td>\n",
              "      <td>206</td>\n",
              "      <td>208</td>\n",
              "      <td>209</td>\n",
              "      <td>208</td>\n",
              "      <td>208</td>\n",
              "      <td>210</td>\n",
              "      <td>211</td>\n",
              "      <td>210</td>\n",
              "      <td>211</td>\n",
              "      <td>209</td>\n",
              "      <td>209</td>\n",
              "      <td>...</td>\n",
              "      <td>85</td>\n",
              "      <td>80</td>\n",
              "      <td>84</td>\n",
              "      <td>151</td>\n",
              "      <td>238</td>\n",
              "      <td>255</td>\n",
              "      <td>255</td>\n",
              "      <td>250</td>\n",
              "      <td>237</td>\n",
              "      <td>245</td>\n",
              "      <td>250</td>\n",
              "      <td>232</td>\n",
              "      <td>103</td>\n",
              "      <td>101</td>\n",
              "      <td>102</td>\n",
              "      <td>103</td>\n",
              "      <td>95</td>\n",
              "      <td>208</td>\n",
              "      <td>231</td>\n",
              "      <td>227</td>\n",
              "      <td>209</td>\n",
              "      <td>190</td>\n",
              "      <td>179</td>\n",
              "      <td>182</td>\n",
              "      <td>152</td>\n",
              "      <td>150</td>\n",
              "      <td>159</td>\n",
              "      <td>119</td>\n",
              "      <td>83</td>\n",
              "      <td>63</td>\n",
              "      <td>154</td>\n",
              "      <td>248</td>\n",
              "      <td>247</td>\n",
              "      <td>248</td>\n",
              "      <td>253</td>\n",
              "      <td>236</td>\n",
              "      <td>230</td>\n",
              "      <td>240</td>\n",
              "      <td>253</td>\n",
              "      <td>255</td>\n",
              "    </tr>\n",
              "    <tr>\n",
              "      <th>4</th>\n",
              "      <td>3</td>\n",
              "      <td>188</td>\n",
              "      <td>191</td>\n",
              "      <td>193</td>\n",
              "      <td>195</td>\n",
              "      <td>199</td>\n",
              "      <td>201</td>\n",
              "      <td>202</td>\n",
              "      <td>203</td>\n",
              "      <td>203</td>\n",
              "      <td>203</td>\n",
              "      <td>204</td>\n",
              "      <td>204</td>\n",
              "      <td>204</td>\n",
              "      <td>203</td>\n",
              "      <td>202</td>\n",
              "      <td>198</td>\n",
              "      <td>216</td>\n",
              "      <td>217</td>\n",
              "      <td>135</td>\n",
              "      <td>181</td>\n",
              "      <td>200</td>\n",
              "      <td>195</td>\n",
              "      <td>194</td>\n",
              "      <td>193</td>\n",
              "      <td>190</td>\n",
              "      <td>189</td>\n",
              "      <td>187</td>\n",
              "      <td>185</td>\n",
              "      <td>190</td>\n",
              "      <td>194</td>\n",
              "      <td>196</td>\n",
              "      <td>197</td>\n",
              "      <td>200</td>\n",
              "      <td>202</td>\n",
              "      <td>204</td>\n",
              "      <td>206</td>\n",
              "      <td>207</td>\n",
              "      <td>207</td>\n",
              "      <td>206</td>\n",
              "      <td>...</td>\n",
              "      <td>93</td>\n",
              "      <td>52</td>\n",
              "      <td>24</td>\n",
              "      <td>53</td>\n",
              "      <td>63</td>\n",
              "      <td>33</td>\n",
              "      <td>41</td>\n",
              "      <td>51</td>\n",
              "      <td>48</td>\n",
              "      <td>45</td>\n",
              "      <td>49</td>\n",
              "      <td>55</td>\n",
              "      <td>149</td>\n",
              "      <td>150</td>\n",
              "      <td>150</td>\n",
              "      <td>148</td>\n",
              "      <td>147</td>\n",
              "      <td>151</td>\n",
              "      <td>124</td>\n",
              "      <td>82</td>\n",
              "      <td>84</td>\n",
              "      <td>81</td>\n",
              "      <td>69</td>\n",
              "      <td>81</td>\n",
              "      <td>111</td>\n",
              "      <td>103</td>\n",
              "      <td>84</td>\n",
              "      <td>75</td>\n",
              "      <td>53</td>\n",
              "      <td>28</td>\n",
              "      <td>26</td>\n",
              "      <td>40</td>\n",
              "      <td>64</td>\n",
              "      <td>48</td>\n",
              "      <td>29</td>\n",
              "      <td>46</td>\n",
              "      <td>49</td>\n",
              "      <td>46</td>\n",
              "      <td>46</td>\n",
              "      <td>53</td>\n",
              "    </tr>\n",
              "  </tbody>\n",
              "</table>\n",
              "<p>5 rows × 785 columns</p>\n",
              "</div>"
            ],
            "text/plain": [
              "   label  pixel1  pixel2  pixel3  ...  pixel781  pixel782  pixel783  pixel784\n",
              "0      6     149     149     150  ...       106       112       120       107\n",
              "1      5     126     128     131  ...       184       184       182       180\n",
              "2     10      85      88      92  ...       226       225       224       222\n",
              "3      0     203     205     207  ...       230       240       253       255\n",
              "4      3     188     191     193  ...        49        46        46        53\n",
              "\n",
              "[5 rows x 785 columns]"
            ]
          },
          "metadata": {
            "tags": []
          },
          "execution_count": 209
        }
      ]
    },
    {
      "cell_type": "code",
      "metadata": {
        "id": "z-zqiMGunN78",
        "colab_type": "code",
        "outputId": "6135ddbf-e9bf-4733-fcc1-d7bbd91c7559",
        "colab": {
          "base_uri": "https://localhost:8080/",
          "height": 253
        }
      },
      "source": [
        "train.head()"
      ],
      "execution_count": 210,
      "outputs": [
        {
          "output_type": "execute_result",
          "data": {
            "text/html": [
              "<div>\n",
              "<style scoped>\n",
              "    .dataframe tbody tr th:only-of-type {\n",
              "        vertical-align: middle;\n",
              "    }\n",
              "\n",
              "    .dataframe tbody tr th {\n",
              "        vertical-align: top;\n",
              "    }\n",
              "\n",
              "    .dataframe thead th {\n",
              "        text-align: right;\n",
              "    }\n",
              "</style>\n",
              "<table border=\"1\" class=\"dataframe\">\n",
              "  <thead>\n",
              "    <tr style=\"text-align: right;\">\n",
              "      <th></th>\n",
              "      <th>label</th>\n",
              "      <th>pixel1</th>\n",
              "      <th>pixel2</th>\n",
              "      <th>pixel3</th>\n",
              "      <th>pixel4</th>\n",
              "      <th>pixel5</th>\n",
              "      <th>pixel6</th>\n",
              "      <th>pixel7</th>\n",
              "      <th>pixel8</th>\n",
              "      <th>pixel9</th>\n",
              "      <th>pixel10</th>\n",
              "      <th>pixel11</th>\n",
              "      <th>pixel12</th>\n",
              "      <th>pixel13</th>\n",
              "      <th>pixel14</th>\n",
              "      <th>pixel15</th>\n",
              "      <th>pixel16</th>\n",
              "      <th>pixel17</th>\n",
              "      <th>pixel18</th>\n",
              "      <th>pixel19</th>\n",
              "      <th>pixel20</th>\n",
              "      <th>pixel21</th>\n",
              "      <th>pixel22</th>\n",
              "      <th>pixel23</th>\n",
              "      <th>pixel24</th>\n",
              "      <th>pixel25</th>\n",
              "      <th>pixel26</th>\n",
              "      <th>pixel27</th>\n",
              "      <th>pixel28</th>\n",
              "      <th>pixel29</th>\n",
              "      <th>pixel30</th>\n",
              "      <th>pixel31</th>\n",
              "      <th>pixel32</th>\n",
              "      <th>pixel33</th>\n",
              "      <th>pixel34</th>\n",
              "      <th>pixel35</th>\n",
              "      <th>pixel36</th>\n",
              "      <th>pixel37</th>\n",
              "      <th>pixel38</th>\n",
              "      <th>pixel39</th>\n",
              "      <th>...</th>\n",
              "      <th>pixel745</th>\n",
              "      <th>pixel746</th>\n",
              "      <th>pixel747</th>\n",
              "      <th>pixel748</th>\n",
              "      <th>pixel749</th>\n",
              "      <th>pixel750</th>\n",
              "      <th>pixel751</th>\n",
              "      <th>pixel752</th>\n",
              "      <th>pixel753</th>\n",
              "      <th>pixel754</th>\n",
              "      <th>pixel755</th>\n",
              "      <th>pixel756</th>\n",
              "      <th>pixel757</th>\n",
              "      <th>pixel758</th>\n",
              "      <th>pixel759</th>\n",
              "      <th>pixel760</th>\n",
              "      <th>pixel761</th>\n",
              "      <th>pixel762</th>\n",
              "      <th>pixel763</th>\n",
              "      <th>pixel764</th>\n",
              "      <th>pixel765</th>\n",
              "      <th>pixel766</th>\n",
              "      <th>pixel767</th>\n",
              "      <th>pixel768</th>\n",
              "      <th>pixel769</th>\n",
              "      <th>pixel770</th>\n",
              "      <th>pixel771</th>\n",
              "      <th>pixel772</th>\n",
              "      <th>pixel773</th>\n",
              "      <th>pixel774</th>\n",
              "      <th>pixel775</th>\n",
              "      <th>pixel776</th>\n",
              "      <th>pixel777</th>\n",
              "      <th>pixel778</th>\n",
              "      <th>pixel779</th>\n",
              "      <th>pixel780</th>\n",
              "      <th>pixel781</th>\n",
              "      <th>pixel782</th>\n",
              "      <th>pixel783</th>\n",
              "      <th>pixel784</th>\n",
              "    </tr>\n",
              "  </thead>\n",
              "  <tbody>\n",
              "    <tr>\n",
              "      <th>0</th>\n",
              "      <td>3</td>\n",
              "      <td>107</td>\n",
              "      <td>118</td>\n",
              "      <td>127</td>\n",
              "      <td>134</td>\n",
              "      <td>139</td>\n",
              "      <td>143</td>\n",
              "      <td>146</td>\n",
              "      <td>150</td>\n",
              "      <td>153</td>\n",
              "      <td>156</td>\n",
              "      <td>158</td>\n",
              "      <td>160</td>\n",
              "      <td>163</td>\n",
              "      <td>165</td>\n",
              "      <td>159</td>\n",
              "      <td>166</td>\n",
              "      <td>168</td>\n",
              "      <td>170</td>\n",
              "      <td>170</td>\n",
              "      <td>171</td>\n",
              "      <td>171</td>\n",
              "      <td>171</td>\n",
              "      <td>172</td>\n",
              "      <td>171</td>\n",
              "      <td>171</td>\n",
              "      <td>170</td>\n",
              "      <td>170</td>\n",
              "      <td>169</td>\n",
              "      <td>111</td>\n",
              "      <td>121</td>\n",
              "      <td>129</td>\n",
              "      <td>135</td>\n",
              "      <td>141</td>\n",
              "      <td>144</td>\n",
              "      <td>148</td>\n",
              "      <td>151</td>\n",
              "      <td>154</td>\n",
              "      <td>157</td>\n",
              "      <td>160</td>\n",
              "      <td>...</td>\n",
              "      <td>205</td>\n",
              "      <td>206</td>\n",
              "      <td>206</td>\n",
              "      <td>207</td>\n",
              "      <td>207</td>\n",
              "      <td>206</td>\n",
              "      <td>206</td>\n",
              "      <td>204</td>\n",
              "      <td>205</td>\n",
              "      <td>204</td>\n",
              "      <td>203</td>\n",
              "      <td>202</td>\n",
              "      <td>142</td>\n",
              "      <td>151</td>\n",
              "      <td>160</td>\n",
              "      <td>172</td>\n",
              "      <td>196</td>\n",
              "      <td>188</td>\n",
              "      <td>188</td>\n",
              "      <td>190</td>\n",
              "      <td>135</td>\n",
              "      <td>96</td>\n",
              "      <td>86</td>\n",
              "      <td>77</td>\n",
              "      <td>77</td>\n",
              "      <td>79</td>\n",
              "      <td>176</td>\n",
              "      <td>205</td>\n",
              "      <td>207</td>\n",
              "      <td>207</td>\n",
              "      <td>207</td>\n",
              "      <td>207</td>\n",
              "      <td>207</td>\n",
              "      <td>207</td>\n",
              "      <td>206</td>\n",
              "      <td>206</td>\n",
              "      <td>206</td>\n",
              "      <td>204</td>\n",
              "      <td>203</td>\n",
              "      <td>202</td>\n",
              "    </tr>\n",
              "    <tr>\n",
              "      <th>1</th>\n",
              "      <td>6</td>\n",
              "      <td>155</td>\n",
              "      <td>157</td>\n",
              "      <td>156</td>\n",
              "      <td>156</td>\n",
              "      <td>156</td>\n",
              "      <td>157</td>\n",
              "      <td>156</td>\n",
              "      <td>158</td>\n",
              "      <td>158</td>\n",
              "      <td>157</td>\n",
              "      <td>158</td>\n",
              "      <td>156</td>\n",
              "      <td>154</td>\n",
              "      <td>154</td>\n",
              "      <td>153</td>\n",
              "      <td>152</td>\n",
              "      <td>151</td>\n",
              "      <td>149</td>\n",
              "      <td>149</td>\n",
              "      <td>148</td>\n",
              "      <td>147</td>\n",
              "      <td>146</td>\n",
              "      <td>144</td>\n",
              "      <td>142</td>\n",
              "      <td>143</td>\n",
              "      <td>138</td>\n",
              "      <td>92</td>\n",
              "      <td>108</td>\n",
              "      <td>158</td>\n",
              "      <td>159</td>\n",
              "      <td>159</td>\n",
              "      <td>159</td>\n",
              "      <td>160</td>\n",
              "      <td>160</td>\n",
              "      <td>160</td>\n",
              "      <td>160</td>\n",
              "      <td>160</td>\n",
              "      <td>160</td>\n",
              "      <td>160</td>\n",
              "      <td>...</td>\n",
              "      <td>100</td>\n",
              "      <td>78</td>\n",
              "      <td>120</td>\n",
              "      <td>157</td>\n",
              "      <td>168</td>\n",
              "      <td>107</td>\n",
              "      <td>99</td>\n",
              "      <td>121</td>\n",
              "      <td>133</td>\n",
              "      <td>97</td>\n",
              "      <td>95</td>\n",
              "      <td>120</td>\n",
              "      <td>135</td>\n",
              "      <td>116</td>\n",
              "      <td>95</td>\n",
              "      <td>79</td>\n",
              "      <td>69</td>\n",
              "      <td>86</td>\n",
              "      <td>139</td>\n",
              "      <td>173</td>\n",
              "      <td>200</td>\n",
              "      <td>185</td>\n",
              "      <td>175</td>\n",
              "      <td>198</td>\n",
              "      <td>124</td>\n",
              "      <td>118</td>\n",
              "      <td>94</td>\n",
              "      <td>140</td>\n",
              "      <td>133</td>\n",
              "      <td>84</td>\n",
              "      <td>69</td>\n",
              "      <td>149</td>\n",
              "      <td>128</td>\n",
              "      <td>87</td>\n",
              "      <td>94</td>\n",
              "      <td>163</td>\n",
              "      <td>175</td>\n",
              "      <td>103</td>\n",
              "      <td>135</td>\n",
              "      <td>149</td>\n",
              "    </tr>\n",
              "    <tr>\n",
              "      <th>2</th>\n",
              "      <td>2</td>\n",
              "      <td>187</td>\n",
              "      <td>188</td>\n",
              "      <td>188</td>\n",
              "      <td>187</td>\n",
              "      <td>187</td>\n",
              "      <td>186</td>\n",
              "      <td>187</td>\n",
              "      <td>188</td>\n",
              "      <td>187</td>\n",
              "      <td>186</td>\n",
              "      <td>185</td>\n",
              "      <td>185</td>\n",
              "      <td>185</td>\n",
              "      <td>184</td>\n",
              "      <td>184</td>\n",
              "      <td>184</td>\n",
              "      <td>181</td>\n",
              "      <td>181</td>\n",
              "      <td>179</td>\n",
              "      <td>179</td>\n",
              "      <td>179</td>\n",
              "      <td>178</td>\n",
              "      <td>178</td>\n",
              "      <td>109</td>\n",
              "      <td>52</td>\n",
              "      <td>66</td>\n",
              "      <td>77</td>\n",
              "      <td>83</td>\n",
              "      <td>188</td>\n",
              "      <td>189</td>\n",
              "      <td>189</td>\n",
              "      <td>188</td>\n",
              "      <td>188</td>\n",
              "      <td>189</td>\n",
              "      <td>188</td>\n",
              "      <td>188</td>\n",
              "      <td>188</td>\n",
              "      <td>188</td>\n",
              "      <td>187</td>\n",
              "      <td>...</td>\n",
              "      <td>203</td>\n",
              "      <td>204</td>\n",
              "      <td>203</td>\n",
              "      <td>201</td>\n",
              "      <td>200</td>\n",
              "      <td>200</td>\n",
              "      <td>199</td>\n",
              "      <td>198</td>\n",
              "      <td>196</td>\n",
              "      <td>195</td>\n",
              "      <td>194</td>\n",
              "      <td>193</td>\n",
              "      <td>198</td>\n",
              "      <td>166</td>\n",
              "      <td>132</td>\n",
              "      <td>114</td>\n",
              "      <td>89</td>\n",
              "      <td>74</td>\n",
              "      <td>79</td>\n",
              "      <td>77</td>\n",
              "      <td>74</td>\n",
              "      <td>78</td>\n",
              "      <td>132</td>\n",
              "      <td>188</td>\n",
              "      <td>210</td>\n",
              "      <td>209</td>\n",
              "      <td>206</td>\n",
              "      <td>205</td>\n",
              "      <td>204</td>\n",
              "      <td>203</td>\n",
              "      <td>202</td>\n",
              "      <td>201</td>\n",
              "      <td>200</td>\n",
              "      <td>199</td>\n",
              "      <td>198</td>\n",
              "      <td>199</td>\n",
              "      <td>198</td>\n",
              "      <td>195</td>\n",
              "      <td>194</td>\n",
              "      <td>195</td>\n",
              "    </tr>\n",
              "    <tr>\n",
              "      <th>3</th>\n",
              "      <td>2</td>\n",
              "      <td>211</td>\n",
              "      <td>211</td>\n",
              "      <td>212</td>\n",
              "      <td>212</td>\n",
              "      <td>211</td>\n",
              "      <td>210</td>\n",
              "      <td>211</td>\n",
              "      <td>210</td>\n",
              "      <td>210</td>\n",
              "      <td>211</td>\n",
              "      <td>209</td>\n",
              "      <td>207</td>\n",
              "      <td>208</td>\n",
              "      <td>207</td>\n",
              "      <td>206</td>\n",
              "      <td>203</td>\n",
              "      <td>202</td>\n",
              "      <td>201</td>\n",
              "      <td>200</td>\n",
              "      <td>198</td>\n",
              "      <td>197</td>\n",
              "      <td>195</td>\n",
              "      <td>192</td>\n",
              "      <td>197</td>\n",
              "      <td>171</td>\n",
              "      <td>51</td>\n",
              "      <td>52</td>\n",
              "      <td>54</td>\n",
              "      <td>212</td>\n",
              "      <td>213</td>\n",
              "      <td>215</td>\n",
              "      <td>215</td>\n",
              "      <td>212</td>\n",
              "      <td>212</td>\n",
              "      <td>213</td>\n",
              "      <td>212</td>\n",
              "      <td>212</td>\n",
              "      <td>211</td>\n",
              "      <td>211</td>\n",
              "      <td>...</td>\n",
              "      <td>247</td>\n",
              "      <td>242</td>\n",
              "      <td>233</td>\n",
              "      <td>231</td>\n",
              "      <td>230</td>\n",
              "      <td>229</td>\n",
              "      <td>227</td>\n",
              "      <td>225</td>\n",
              "      <td>223</td>\n",
              "      <td>221</td>\n",
              "      <td>220</td>\n",
              "      <td>216</td>\n",
              "      <td>58</td>\n",
              "      <td>51</td>\n",
              "      <td>49</td>\n",
              "      <td>50</td>\n",
              "      <td>57</td>\n",
              "      <td>60</td>\n",
              "      <td>17</td>\n",
              "      <td>15</td>\n",
              "      <td>18</td>\n",
              "      <td>17</td>\n",
              "      <td>19</td>\n",
              "      <td>1</td>\n",
              "      <td>159</td>\n",
              "      <td>255</td>\n",
              "      <td>237</td>\n",
              "      <td>239</td>\n",
              "      <td>237</td>\n",
              "      <td>236</td>\n",
              "      <td>235</td>\n",
              "      <td>234</td>\n",
              "      <td>233</td>\n",
              "      <td>231</td>\n",
              "      <td>230</td>\n",
              "      <td>226</td>\n",
              "      <td>225</td>\n",
              "      <td>222</td>\n",
              "      <td>229</td>\n",
              "      <td>163</td>\n",
              "    </tr>\n",
              "    <tr>\n",
              "      <th>4</th>\n",
              "      <td>13</td>\n",
              "      <td>164</td>\n",
              "      <td>167</td>\n",
              "      <td>170</td>\n",
              "      <td>172</td>\n",
              "      <td>176</td>\n",
              "      <td>179</td>\n",
              "      <td>180</td>\n",
              "      <td>184</td>\n",
              "      <td>185</td>\n",
              "      <td>186</td>\n",
              "      <td>188</td>\n",
              "      <td>189</td>\n",
              "      <td>189</td>\n",
              "      <td>190</td>\n",
              "      <td>191</td>\n",
              "      <td>189</td>\n",
              "      <td>190</td>\n",
              "      <td>190</td>\n",
              "      <td>187</td>\n",
              "      <td>190</td>\n",
              "      <td>192</td>\n",
              "      <td>193</td>\n",
              "      <td>191</td>\n",
              "      <td>191</td>\n",
              "      <td>192</td>\n",
              "      <td>192</td>\n",
              "      <td>194</td>\n",
              "      <td>194</td>\n",
              "      <td>166</td>\n",
              "      <td>169</td>\n",
              "      <td>172</td>\n",
              "      <td>174</td>\n",
              "      <td>177</td>\n",
              "      <td>180</td>\n",
              "      <td>182</td>\n",
              "      <td>185</td>\n",
              "      <td>186</td>\n",
              "      <td>187</td>\n",
              "      <td>190</td>\n",
              "      <td>...</td>\n",
              "      <td>90</td>\n",
              "      <td>77</td>\n",
              "      <td>88</td>\n",
              "      <td>117</td>\n",
              "      <td>123</td>\n",
              "      <td>127</td>\n",
              "      <td>129</td>\n",
              "      <td>134</td>\n",
              "      <td>145</td>\n",
              "      <td>152</td>\n",
              "      <td>156</td>\n",
              "      <td>179</td>\n",
              "      <td>105</td>\n",
              "      <td>106</td>\n",
              "      <td>105</td>\n",
              "      <td>104</td>\n",
              "      <td>104</td>\n",
              "      <td>104</td>\n",
              "      <td>175</td>\n",
              "      <td>199</td>\n",
              "      <td>178</td>\n",
              "      <td>152</td>\n",
              "      <td>136</td>\n",
              "      <td>130</td>\n",
              "      <td>136</td>\n",
              "      <td>150</td>\n",
              "      <td>118</td>\n",
              "      <td>92</td>\n",
              "      <td>85</td>\n",
              "      <td>76</td>\n",
              "      <td>92</td>\n",
              "      <td>105</td>\n",
              "      <td>105</td>\n",
              "      <td>108</td>\n",
              "      <td>133</td>\n",
              "      <td>163</td>\n",
              "      <td>157</td>\n",
              "      <td>163</td>\n",
              "      <td>164</td>\n",
              "      <td>179</td>\n",
              "    </tr>\n",
              "  </tbody>\n",
              "</table>\n",
              "<p>5 rows × 785 columns</p>\n",
              "</div>"
            ],
            "text/plain": [
              "   label  pixel1  pixel2  pixel3  ...  pixel781  pixel782  pixel783  pixel784\n",
              "0      3     107     118     127  ...       206       204       203       202\n",
              "1      6     155     157     156  ...       175       103       135       149\n",
              "2      2     187     188     188  ...       198       195       194       195\n",
              "3      2     211     211     212  ...       225       222       229       163\n",
              "4     13     164     167     170  ...       157       163       164       179\n",
              "\n",
              "[5 rows x 785 columns]"
            ]
          },
          "metadata": {
            "tags": []
          },
          "execution_count": 210
        }
      ]
    },
    {
      "cell_type": "code",
      "metadata": {
        "id": "JokA5cNhmap3",
        "colab_type": "code",
        "outputId": "d64455b7-650f-4dc5-f57e-b6cfcc575746",
        "colab": {
          "base_uri": "https://localhost:8080/",
          "height": 51
        }
      },
      "source": [
        "print(\"Train set shape:\", train.shape)\n",
        "print(\"Test set shape: \", test.shape)"
      ],
      "execution_count": 211,
      "outputs": [
        {
          "output_type": "stream",
          "text": [
            "Train set shape: (27455, 785)\n",
            "Test set shape:  (7172, 785)\n"
          ],
          "name": "stdout"
        }
      ]
    },
    {
      "cell_type": "code",
      "metadata": {
        "id": "zBWEIhn0nUKD",
        "colab_type": "code",
        "colab": {}
      },
      "source": [
        "X_train = train.drop(['label'], axis=1).values\n",
        "y_train = train['label'].values\n",
        "X_test = test.drop(['label'], axis=1).values\n",
        "y_test = test['label'].values"
      ],
      "execution_count": 0,
      "outputs": []
    },
    {
      "cell_type": "code",
      "metadata": {
        "id": "rFQbVFELIj-d",
        "colab_type": "code",
        "outputId": "f93cfe1b-023e-4cd0-ed19-b8235ab6135a",
        "colab": {
          "base_uri": "https://localhost:8080/",
          "height": 51
        }
      },
      "source": [
        "print(X_train.shape)\n",
        "print(y_train.shape)"
      ],
      "execution_count": 213,
      "outputs": [
        {
          "output_type": "stream",
          "text": [
            "(27455, 784)\n",
            "(27455,)\n"
          ],
          "name": "stdout"
        }
      ]
    },
    {
      "cell_type": "code",
      "metadata": {
        "id": "BsvwgYeYnwxj",
        "colab_type": "code",
        "colab": {}
      },
      "source": [
        "X_train = X_train.reshape(X_train.shape[0], 28, 28, 1)\n",
        "X_test = X_test.reshape(X_test.shape[0], 28, 28, 1)"
      ],
      "execution_count": 0,
      "outputs": []
    },
    {
      "cell_type": "code",
      "metadata": {
        "id": "2B2iFgtQIqfM",
        "colab_type": "code",
        "outputId": "a20ede83-4c1d-4ca8-f0c7-de9e6ccd4732",
        "colab": {
          "base_uri": "https://localhost:8080/",
          "height": 34
        }
      },
      "source": [
        "print(X_train.shape)"
      ],
      "execution_count": 215,
      "outputs": [
        {
          "output_type": "stream",
          "text": [
            "(27455, 28, 28, 1)\n"
          ],
          "name": "stdout"
        }
      ]
    },
    {
      "cell_type": "markdown",
      "metadata": {
        "id": "lVY4S6HBI5MW",
        "colab_type": "text"
      },
      "source": [
        "Some basic preprocessing of data to make training the models easier."
      ]
    },
    {
      "cell_type": "code",
      "metadata": {
        "id": "I40m_6Idn9PJ",
        "colab_type": "code",
        "colab": {}
      },
      "source": [
        "X_train = X_train.astype('float32')\n",
        "X_test = X_test.astype('float32')"
      ],
      "execution_count": 0,
      "outputs": []
    },
    {
      "cell_type": "code",
      "metadata": {
        "id": "xkUH18hkoFFR",
        "colab_type": "code",
        "colab": {}
      },
      "source": [
        "X_train /= 255\n",
        "X_test /= 255"
      ],
      "execution_count": 0,
      "outputs": []
    },
    {
      "cell_type": "markdown",
      "metadata": {
        "id": "1v3y-G3YI-ae",
        "colab_type": "text"
      },
      "source": [
        "So the labels range of 0 to 24, implying 25 possible letters."
      ]
    },
    {
      "cell_type": "code",
      "metadata": {
        "id": "PQ0SmoE-FNcZ",
        "colab_type": "code",
        "outputId": "fe5b1d99-be12-4e43-d351-dc8b7a56afbc",
        "colab": {
          "base_uri": "https://localhost:8080/",
          "height": 34
        }
      },
      "source": [
        "max_ind = 0\n",
        "for i in range(0, len(y_test)):\n",
        "  if y_test[i] > max_ind:\n",
        "    max_ind = y_test[i]\n",
        "print(max_ind)\n",
        "# SO 24 IS THE MAX INDICE"
      ],
      "execution_count": 218,
      "outputs": [
        {
          "output_type": "stream",
          "text": [
            "24\n"
          ],
          "name": "stdout"
        }
      ]
    },
    {
      "cell_type": "markdown",
      "metadata": {
        "id": "r2CRhugmJFxd",
        "colab_type": "text"
      },
      "source": [
        "Here we had to add dummies to create a numerical representation of categories. This was necessary for some of the models but not for others. Thus, we did two separate train_test_splits. "
      ]
    },
    {
      "cell_type": "code",
      "metadata": {
        "id": "Veda01hboH8s",
        "colab_type": "code",
        "colab": {}
      },
      "source": [
        "# this whole get dummies thing is messing up a lot of models\n",
        "y_train_dummies = pd.get_dummies(y_train)\n",
        "y_test_dummies = pd.get_dummies(y_test)"
      ],
      "execution_count": 0,
      "outputs": []
    },
    {
      "cell_type": "code",
      "metadata": {
        "id": "MWbKDrU1oQ2P",
        "colab_type": "code",
        "colab": {}
      },
      "source": [
        "X_train_sub, X_val, y_train_sub, y_val = train_test_split(X_train, y_train, random_state=42, stratify=y_train)"
      ],
      "execution_count": 0,
      "outputs": []
    },
    {
      "cell_type": "code",
      "metadata": {
        "id": "9qoX1lsVJan3",
        "colab_type": "code",
        "colab": {}
      },
      "source": [
        "X_train, X_val_dummies, y_train, y_val_dummies = train_test_split(X_train, y_train_dummies, random_state=42, stratify=y_train_dummies)"
      ],
      "execution_count": 0,
      "outputs": []
    },
    {
      "cell_type": "markdown",
      "metadata": {
        "id": "cYdWDWSjFMtX",
        "colab_type": "text"
      },
      "source": [
        "So we have multiple data subsets that we need to organize.\n",
        "\n",
        "\n",
        "1.   X_train and y_train match with dummies\n",
        "        - X_val_dummies and y_val_dummies\n",
        "2.   X_test and y_test dummies should be used for this set\n",
        "3.   X_train_sub and y_train_sub match with normal label sets\n",
        "        - X_val and y_val\n",
        "4.   X_test and y_test are pure - with one label\n",
        "\n",
        "\n",
        "\n"
      ]
    },
    {
      "cell_type": "code",
      "metadata": {
        "id": "0oju0-g5o4xm",
        "colab_type": "code",
        "outputId": "aaed55e3-d64b-4c90-b5be-ec29d117076c",
        "colab": {
          "base_uri": "https://localhost:8080/",
          "height": 34
        }
      },
      "source": [
        "print(X_train[1].shape)\n",
        "# So images are 28x28x1, grayscale"
      ],
      "execution_count": 222,
      "outputs": [
        {
          "output_type": "stream",
          "text": [
            "(28, 28, 1)\n"
          ],
          "name": "stdout"
        }
      ]
    },
    {
      "cell_type": "markdown",
      "metadata": {
        "id": "8Qbg3w9pAZOV",
        "colab_type": "text"
      },
      "source": [
        "# **Model 1 - CNN.** Below is the CNN model that inspired our work. We copied it from the website below and used it as a benchmark for our own models. "
      ]
    },
    {
      "cell_type": "code",
      "metadata": {
        "id": "JUy-BEV0pzx5",
        "colab_type": "code",
        "outputId": "3cb7c6c9-1384-4204-84b3-6481611fb0a0",
        "colab": {
          "base_uri": "https://localhost:8080/",
          "height": 425
        }
      },
      "source": [
        "# CNN model from https://medium.com/the-research-nest/applied-machine-learning-part-2-a4ba715649d1\n",
        "model = Sequential()\n",
        "model.add(Conv2D(8, (3,3), input_shape=(28,28,1), activation='relu'))\n",
        "model.add(MaxPooling2D(pool_size=(2,2), strides=2))\n",
        "model.add(Conv2D(16, (3,3), activation='relu'))\n",
        "model.add(MaxPooling2D(pool_size=(2,2), strides=2))\n",
        "model.add(Flatten())\n",
        "model.add(Dense(128, activation='relu'))\n",
        "model.add(Dropout(0.4))\n",
        "model.add(Dense(24, activation='softmax'))\n",
        "# model.add(Dense(1, activation='softmax'))\n",
        "# model.add(Dense(25, activation='softmax'))\n",
        "model.summary()"
      ],
      "execution_count": 276,
      "outputs": [
        {
          "output_type": "stream",
          "text": [
            "Model: \"sequential_6\"\n",
            "_________________________________________________________________\n",
            "Layer (type)                 Output Shape              Param #   \n",
            "=================================================================\n",
            "conv2d_11 (Conv2D)           (None, 26, 26, 8)         80        \n",
            "_________________________________________________________________\n",
            "max_pooling2d_11 (MaxPooling (None, 13, 13, 8)         0         \n",
            "_________________________________________________________________\n",
            "conv2d_12 (Conv2D)           (None, 11, 11, 16)        1168      \n",
            "_________________________________________________________________\n",
            "max_pooling2d_12 (MaxPooling (None, 5, 5, 16)          0         \n",
            "_________________________________________________________________\n",
            "flatten_6 (Flatten)          (None, 400)               0         \n",
            "_________________________________________________________________\n",
            "dense_39 (Dense)             (None, 128)               51328     \n",
            "_________________________________________________________________\n",
            "dropout_6 (Dropout)          (None, 128)               0         \n",
            "_________________________________________________________________\n",
            "dense_40 (Dense)             (None, 24)                3096      \n",
            "=================================================================\n",
            "Total params: 55,672\n",
            "Trainable params: 55,672\n",
            "Non-trainable params: 0\n",
            "_________________________________________________________________\n"
          ],
          "name": "stdout"
        }
      ]
    },
    {
      "cell_type": "code",
      "metadata": {
        "id": "PaSKUsFQsNI1",
        "colab_type": "code",
        "colab": {}
      },
      "source": [
        "model.compile(loss = 'categorical_crossentropy', optimizer='adam', metrics=['accuracy'])"
      ],
      "execution_count": 0,
      "outputs": []
    },
    {
      "cell_type": "code",
      "metadata": {
        "id": "hseO5Uu1LKS9",
        "colab_type": "code",
        "outputId": "5ea6ec4a-b4c4-4cc3-f71b-c338ad6bd7a3",
        "colab": {
          "base_uri": "https://localhost:8080/",
          "height": 85
        }
      },
      "source": [
        "print(X_train.shape)\n",
        "print(y_train.shape)\n",
        "print(X_val_dummies.shape)\n",
        "print(y_val_dummies.shape)"
      ],
      "execution_count": 278,
      "outputs": [
        {
          "output_type": "stream",
          "text": [
            "(20591, 28, 28, 1)\n",
            "(20591, 24)\n",
            "(6864, 28, 28, 1)\n",
            "(6864, 24)\n"
          ],
          "name": "stdout"
        }
      ]
    },
    {
      "cell_type": "code",
      "metadata": {
        "id": "l4f4_PGqsY07",
        "colab_type": "code",
        "colab": {
          "base_uri": "https://localhost:8080/",
          "height": 1000
        },
        "outputId": "33e6eab1-722e-42b5-f1ec-fb60a4b60623"
      },
      "source": [
        "history = model.fit(X_train, y_train, validation_data = (X_val_dummies, y_val_dummies), epochs=50, batch_size=512)"
      ],
      "execution_count": 279,
      "outputs": [
        {
          "output_type": "stream",
          "text": [
            "Train on 20591 samples, validate on 6864 samples\n",
            "Epoch 1/50\n",
            "20591/20591 [==============================] - 7s 351us/step - loss: 3.1090 - acc: 0.1054 - val_loss: 2.9388 - val_acc: 0.2823\n",
            "Epoch 2/50\n",
            "20591/20591 [==============================] - 6s 298us/step - loss: 2.5502 - acc: 0.2829 - val_loss: 1.9626 - val_acc: 0.4846\n",
            "Epoch 3/50\n",
            "20591/20591 [==============================] - 6s 298us/step - loss: 1.7749 - acc: 0.4538 - val_loss: 1.2982 - val_acc: 0.6761\n",
            "Epoch 4/50\n",
            "20591/20591 [==============================] - 6s 300us/step - loss: 1.3232 - acc: 0.5810 - val_loss: 0.9456 - val_acc: 0.7453\n",
            "Epoch 5/50\n",
            "20591/20591 [==============================] - 6s 299us/step - loss: 1.0409 - acc: 0.6740 - val_loss: 0.7138 - val_acc: 0.8207\n",
            "Epoch 6/50\n",
            "20591/20591 [==============================] - 6s 302us/step - loss: 0.8444 - acc: 0.7337 - val_loss: 0.5832 - val_acc: 0.8568\n",
            "Epoch 7/50\n",
            "20591/20591 [==============================] - 6s 300us/step - loss: 0.7117 - acc: 0.7753 - val_loss: 0.4614 - val_acc: 0.8814\n",
            "Epoch 8/50\n",
            "20591/20591 [==============================] - 6s 305us/step - loss: 0.5996 - acc: 0.8116 - val_loss: 0.3808 - val_acc: 0.9018\n",
            "Epoch 9/50\n",
            "20591/20591 [==============================] - 6s 301us/step - loss: 0.5250 - acc: 0.8322 - val_loss: 0.3157 - val_acc: 0.9245\n",
            "Epoch 10/50\n",
            "20591/20591 [==============================] - 6s 302us/step - loss: 0.4513 - acc: 0.8578 - val_loss: 0.2594 - val_acc: 0.9441\n",
            "Epoch 11/50\n",
            "20591/20591 [==============================] - 6s 301us/step - loss: 0.3947 - acc: 0.8759 - val_loss: 0.2150 - val_acc: 0.9540\n",
            "Epoch 12/50\n",
            "20591/20591 [==============================] - 6s 303us/step - loss: 0.3491 - acc: 0.8903 - val_loss: 0.1850 - val_acc: 0.9631\n",
            "Epoch 13/50\n",
            "20591/20591 [==============================] - 6s 302us/step - loss: 0.2966 - acc: 0.9080 - val_loss: 0.1444 - val_acc: 0.9748\n",
            "Epoch 14/50\n",
            "20591/20591 [==============================] - 6s 300us/step - loss: 0.2607 - acc: 0.9225 - val_loss: 0.1236 - val_acc: 0.9797\n",
            "Epoch 15/50\n",
            "20591/20591 [==============================] - 6s 301us/step - loss: 0.2334 - acc: 0.9298 - val_loss: 0.0976 - val_acc: 0.9848\n",
            "Epoch 16/50\n",
            "20591/20591 [==============================] - 6s 304us/step - loss: 0.2063 - acc: 0.9395 - val_loss: 0.0871 - val_acc: 0.9899\n",
            "Epoch 17/50\n",
            "20591/20591 [==============================] - 6s 301us/step - loss: 0.1786 - acc: 0.9510 - val_loss: 0.0637 - val_acc: 0.9924\n",
            "Epoch 18/50\n",
            "20591/20591 [==============================] - 6s 305us/step - loss: 0.1673 - acc: 0.9516 - val_loss: 0.0557 - val_acc: 0.9937\n",
            "Epoch 19/50\n",
            "20591/20591 [==============================] - 6s 303us/step - loss: 0.1447 - acc: 0.9594 - val_loss: 0.0501 - val_acc: 0.9955\n",
            "Epoch 20/50\n",
            "20591/20591 [==============================] - 6s 305us/step - loss: 0.1300 - acc: 0.9651 - val_loss: 0.0368 - val_acc: 0.9996\n",
            "Epoch 21/50\n",
            "20591/20591 [==============================] - 6s 301us/step - loss: 0.1177 - acc: 0.9680 - val_loss: 0.0323 - val_acc: 0.9980\n",
            "Epoch 22/50\n",
            "20591/20591 [==============================] - 6s 304us/step - loss: 0.1111 - acc: 0.9687 - val_loss: 0.0291 - val_acc: 0.9990\n",
            "Epoch 23/50\n",
            "20591/20591 [==============================] - 6s 305us/step - loss: 0.1007 - acc: 0.9720 - val_loss: 0.0229 - val_acc: 0.9993\n",
            "Epoch 24/50\n",
            "20591/20591 [==============================] - 6s 306us/step - loss: 0.0937 - acc: 0.9744 - val_loss: 0.0212 - val_acc: 0.9993\n",
            "Epoch 25/50\n",
            "20591/20591 [==============================] - 6s 300us/step - loss: 0.0868 - acc: 0.9768 - val_loss: 0.0171 - val_acc: 0.9997\n",
            "Epoch 26/50\n",
            "20591/20591 [==============================] - 6s 303us/step - loss: 0.0768 - acc: 0.9798 - val_loss: 0.0183 - val_acc: 0.9999\n",
            "Epoch 27/50\n",
            "20591/20591 [==============================] - 6s 301us/step - loss: 0.0776 - acc: 0.9800 - val_loss: 0.0125 - val_acc: 0.9994\n",
            "Epoch 28/50\n",
            "20591/20591 [==============================] - 6s 302us/step - loss: 0.0652 - acc: 0.9837 - val_loss: 0.0120 - val_acc: 0.9997\n",
            "Epoch 29/50\n",
            "20591/20591 [==============================] - 6s 304us/step - loss: 0.0660 - acc: 0.9824 - val_loss: 0.0109 - val_acc: 0.9997\n",
            "Epoch 30/50\n",
            "20591/20591 [==============================] - 6s 305us/step - loss: 0.0613 - acc: 0.9840 - val_loss: 0.0087 - val_acc: 0.9996\n",
            "Epoch 31/50\n",
            "20591/20591 [==============================] - 6s 303us/step - loss: 0.0545 - acc: 0.9862 - val_loss: 0.0102 - val_acc: 0.9991\n",
            "Epoch 32/50\n",
            "20591/20591 [==============================] - 6s 301us/step - loss: 0.0513 - acc: 0.9878 - val_loss: 0.0067 - val_acc: 0.9999\n",
            "Epoch 33/50\n",
            "20591/20591 [==============================] - 6s 303us/step - loss: 0.0500 - acc: 0.9866 - val_loss: 0.0074 - val_acc: 0.9997\n",
            "Epoch 34/50\n",
            "20591/20591 [==============================] - 6s 305us/step - loss: 0.0478 - acc: 0.9884 - val_loss: 0.0056 - val_acc: 0.9997\n",
            "Epoch 35/50\n",
            "20591/20591 [==============================] - 6s 305us/step - loss: 0.0453 - acc: 0.9888 - val_loss: 0.0052 - val_acc: 0.9999\n",
            "Epoch 36/50\n",
            "20591/20591 [==============================] - 6s 304us/step - loss: 0.0436 - acc: 0.9876 - val_loss: 0.0042 - val_acc: 1.0000\n",
            "Epoch 37/50\n",
            "20591/20591 [==============================] - 6s 303us/step - loss: 0.0409 - acc: 0.9887 - val_loss: 0.0041 - val_acc: 1.0000\n",
            "Epoch 38/50\n",
            "20591/20591 [==============================] - 6s 301us/step - loss: 0.0403 - acc: 0.9896 - val_loss: 0.0041 - val_acc: 0.9999\n",
            "Epoch 39/50\n",
            "20591/20591 [==============================] - 6s 303us/step - loss: 0.0378 - acc: 0.9911 - val_loss: 0.0034 - val_acc: 0.9999\n",
            "Epoch 40/50\n",
            "20591/20591 [==============================] - 6s 304us/step - loss: 0.0358 - acc: 0.9896 - val_loss: 0.0040 - val_acc: 0.9999\n",
            "Epoch 41/50\n",
            "20591/20591 [==============================] - 6s 303us/step - loss: 0.0371 - acc: 0.9900 - val_loss: 0.0032 - val_acc: 1.0000\n",
            "Epoch 42/50\n",
            "20591/20591 [==============================] - 6s 305us/step - loss: 0.0310 - acc: 0.9924 - val_loss: 0.0024 - val_acc: 1.0000\n",
            "Epoch 43/50\n",
            "20591/20591 [==============================] - 6s 301us/step - loss: 0.0328 - acc: 0.9919 - val_loss: 0.0032 - val_acc: 1.0000\n",
            "Epoch 44/50\n",
            "20591/20591 [==============================] - 6s 300us/step - loss: 0.0323 - acc: 0.9915 - val_loss: 0.0022 - val_acc: 1.0000\n",
            "Epoch 45/50\n",
            "20591/20591 [==============================] - 6s 304us/step - loss: 0.0272 - acc: 0.9935 - val_loss: 0.0020 - val_acc: 1.0000\n",
            "Epoch 46/50\n",
            "20591/20591 [==============================] - 6s 302us/step - loss: 0.0267 - acc: 0.9937 - val_loss: 0.0020 - val_acc: 1.0000\n",
            "Epoch 47/50\n",
            "20591/20591 [==============================] - 6s 301us/step - loss: 0.0274 - acc: 0.9922 - val_loss: 0.0020 - val_acc: 0.9999\n",
            "Epoch 48/50\n",
            "20591/20591 [==============================] - 6s 300us/step - loss: 0.0258 - acc: 0.9934 - val_loss: 0.0018 - val_acc: 1.0000\n",
            "Epoch 49/50\n",
            "20591/20591 [==============================] - 6s 301us/step - loss: 0.0252 - acc: 0.9935 - val_loss: 0.0016 - val_acc: 1.0000\n",
            "Epoch 50/50\n",
            "20591/20591 [==============================] - 6s 305us/step - loss: 0.0252 - acc: 0.9934 - val_loss: 0.0017 - val_acc: 0.9999\n"
          ],
          "name": "stdout"
        }
      ]
    },
    {
      "cell_type": "code",
      "metadata": {
        "id": "CjG_tMuisdLj",
        "colab_type": "code",
        "outputId": "29331f50-d3a8-4087-975b-88106e5fa487",
        "colab": {
          "base_uri": "https://localhost:8080/",
          "height": 279
        }
      },
      "source": [
        "plt.plot(history.history['acc'])\n",
        "plt.plot(history.history['val_acc'])\n",
        "plt.xlabel('epoch')\n",
        "plt.ylabel('accuracy')\n",
        "plt.legend(['train','validation (not full test set yet)'])\n",
        "plt.show()"
      ],
      "execution_count": 281,
      "outputs": [
        {
          "output_type": "display_data",
          "data": {
            "image/png": "[encoded data removed]",
            "text/plain": [
              "<Figure size 432x288 with 1 Axes>"
            ]
          },
          "metadata": {
            "tags": []
          }
        }
      ]
    },
    {
      "cell_type": "code",
      "metadata": {
        "id": "crO7-Yr7uso9",
        "colab_type": "code",
        "outputId": "8f04a9e8-6c8c-46d5-9e62-9698764a3840",
        "colab": {
          "base_uri": "https://localhost:8080/",
          "height": 51
        }
      },
      "source": [
        "# X_test_yo = np.reshape(X_test, (7172, 28*28))\n",
        "# predictions = model.predict(X_test_yo)\n",
        "print(X_test.shape)\n",
        "print(y_test_dummies.shape)"
      ],
      "execution_count": 282,
      "outputs": [
        {
          "output_type": "stream",
          "text": [
            "(7172, 28, 28, 1)\n",
            "(7172, 24)\n"
          ],
          "name": "stdout"
        }
      ]
    },
    {
      "cell_type": "code",
      "metadata": {
        "id": "uWTvEaO8vqjh",
        "colab_type": "code",
        "outputId": "f0dc24c4-745e-4afd-cb7a-0262c7a54193",
        "colab": {
          "base_uri": "https://localhost:8080/",
          "height": 68
        }
      },
      "source": [
        "score = model.evaluate(X_test, y_test_dummies, verbose=1)\n",
        "print('test loss: ', score[0])\n",
        "print('test accuracy: ', score[1])"
      ],
      "execution_count": 283,
      "outputs": [
        {
          "output_type": "stream",
          "text": [
            "7172/7172 [==============================] - 1s 183us/step\n",
            "test loss:  0.29532248571377956\n",
            "test accuracy:  0.9287506971556051\n"
          ],
          "name": "stdout"
        }
      ]
    },
    {
      "cell_type": "code",
      "metadata": {
        "id": "uf5iytnOvW6T",
        "colab_type": "code",
        "colab": {}
      },
      "source": [
        "# from sklearn.metrics import accuracy_score\n",
        "# test_accuracy = accuracy_score(np.argmax(y_test, axis=1), np.argmax(predictions, axis=1))\n",
        "# print(\"The test accuracy is: \", test_accuracy)"
      ],
      "execution_count": 0,
      "outputs": []
    },
    {
      "cell_type": "code",
      "metadata": {
        "id": "AzwkjFZ25qQi",
        "colab_type": "code",
        "outputId": "e019da9b-1daa-465c-c697-2a5fc92903f2",
        "colab": {
          "base_uri": "https://localhost:8080/",
          "height": 34
        }
      },
      "source": [
        "print(X.shape)"
      ],
      "execution_count": 229,
      "outputs": [
        {
          "output_type": "stream",
          "text": [
            "(20591, 784)\n"
          ],
          "name": "stdout"
        }
      ]
    },
    {
      "cell_type": "code",
      "metadata": {
        "id": "ab7xrCcHvaHj",
        "colab_type": "code",
        "colab": {}
      },
      "source": [
        "# from sklearn.svm import SVC\n",
        "# svm = SVC(kernel=\"rbf\")\n",
        "X = X_train.copy()\n",
        "y = y_train.copy()\n",
        "X = np.reshape(X, (20591, 28*28))\n",
        "\n",
        "# y_store = np.zeros((y.shape[0],1))\n",
        "# for i in range(0, y.shape[0]):\n",
        "#   print(\"i\", i, \"y[i]\", y[i])\n",
        "#   # y_store[i] = np.argmax(y[i])\n",
        "# # X = X.reshape(-1, 1)\n",
        "# X = np.reshape(X, (15443, 28*28))\n",
        "# # y = y.flatten(0)\n",
        "# print(X.shape)\n",
        "# print(y.shape)\n",
        "# # y = y.reshape(1,-1)\n",
        "# svm.fit(X, y)"
      ],
      "execution_count": 0,
      "outputs": []
    },
    {
      "cell_type": "markdown",
      "metadata": {
        "id": "VjT4BMDHAPYX",
        "colab_type": "text"
      },
      "source": [
        "# **Model 2 - MLP Classifier.** Below is our MLP Classifier that achieved a test accuracy of 58.9%"
      ]
    },
    {
      "cell_type": "code",
      "metadata": {
        "id": "Zqj7cxRbx_YY",
        "colab_type": "code",
        "outputId": "2bb8e648-0f26-459e-b5c0-d5b4c4ed182e",
        "colab": {
          "base_uri": "https://localhost:8080/",
          "height": 190
        }
      },
      "source": [
        "from sklearn.neural_network import MLPClassifier\n",
        "neural_net = MLPClassifier()\n",
        "# neural_net.fit(X_train.reshape(1, -1), y_train.reshape(1,-1))\n",
        "neural_net.fit(X, y)"
      ],
      "execution_count": 231,
      "outputs": [
        {
          "output_type": "stream",
          "text": [
            "/usr/local/lib/python3.6/dist-packages/sklearn/neural_network/multilayer_perceptron.py:566: ConvergenceWarning: Stochastic Optimizer: Maximum iterations (200) reached and the optimization hasn't converged yet.\n",
            "  % self.max_iter, ConvergenceWarning)\n"
          ],
          "name": "stderr"
        },
        {
          "output_type": "execute_result",
          "data": {
            "text/plain": [
              "MLPClassifier(activation='relu', alpha=0.0001, batch_size='auto', beta_1=0.9,\n",
              "              beta_2=0.999, early_stopping=False, epsilon=1e-08,\n",
              "              hidden_layer_sizes=(100,), learning_rate='constant',\n",
              "              learning_rate_init=0.001, max_iter=200, momentum=0.9,\n",
              "              n_iter_no_change=10, nesterovs_momentum=True, power_t=0.5,\n",
              "              random_state=None, shuffle=True, solver='adam', tol=0.0001,\n",
              "              validation_fraction=0.1, verbose=False, warm_start=False)"
            ]
          },
          "metadata": {
            "tags": []
          },
          "execution_count": 231
        }
      ]
    },
    {
      "cell_type": "code",
      "metadata": {
        "id": "_wFAFcmt207B",
        "colab_type": "code",
        "outputId": "f10a13d4-7a71-4686-b940-cc3e5b2522a0",
        "colab": {
          "base_uri": "https://localhost:8080/",
          "height": 34
        }
      },
      "source": [
        "print(X_test.shape)"
      ],
      "execution_count": 237,
      "outputs": [
        {
          "output_type": "stream",
          "text": [
            "(7172, 28, 28, 1)\n"
          ],
          "name": "stdout"
        }
      ]
    },
    {
      "cell_type": "code",
      "metadata": {
        "id": "nxMeP9E2yLhD",
        "colab_type": "code",
        "outputId": "f4d34f6d-3774-4810-ebb9-b861c0bbd97d",
        "colab": {
          "base_uri": "https://localhost:8080/",
          "height": 51
        }
      },
      "source": [
        "from sklearn.metrics import accuracy_score\n",
        "X_test_reshape = np.reshape(X_test, (7172, 28*28))\n",
        "y_pred = neural_net.predict(X_test_reshape)\n",
        "X_val_2 = X_val_dummies.copy()\n",
        "X_val_2 = np.reshape(X_val_2, (6864, 28*28))\n",
        "y_pred_2 = neural_net.predict(X_val_2)\n",
        "y_val_2 = y_val_dummies.copy()\n",
        "print(\"MLP Classifier's Test Set Accuracy:  \", 100*accuracy_score(y_val_2, y_pred_2), \"%\")\n",
        "print(\"MLP Classifier's Test Set Accuracy:  \", 100*accuracy_score(y_test_dummies, y_pred), \"%\")"
      ],
      "execution_count": 240,
      "outputs": [
        {
          "output_type": "stream",
          "text": [
            "MLP Classifier's Test Set Accuracy:   99.83974358974359 %\n",
            "MLP Classifier's Test Set Accuracy:   58.88176240936978 %\n"
          ],
          "name": "stdout"
        }
      ]
    },
    {
      "cell_type": "code",
      "metadata": {
        "id": "8zlGImS62p89",
        "colab_type": "code",
        "colab": {}
      },
      "source": [
        "# from sklearn.neighbors import KNeighborsClassifier\n",
        "\n",
        "# k_neighbors = KNeighborsClassifier(n_neighbors = 2)"
      ],
      "execution_count": 0,
      "outputs": []
    },
    {
      "cell_type": "markdown",
      "metadata": {
        "id": "C8XQfzj8AIf-",
        "colab_type": "text"
      },
      "source": [
        "# **Model 3 - Simple Neural Network.** Below is our simple neural network from scratch. Its test accuracy is incredibly low ~2-3%\n",
        "\n",
        "\n"
      ]
    },
    {
      "cell_type": "code",
      "metadata": {
        "id": "QdYUx8Bh6C4M",
        "colab_type": "code",
        "outputId": "4da1f908-e91f-4677-bae5-04e780d1373b",
        "colab": {
          "base_uri": "https://localhost:8080/",
          "height": 34
        }
      },
      "source": [
        "import keras\n",
        "X_train_2 = np.reshape(X_train_sub, (X_train_sub.shape[0], 28*28))\n",
        "y_train_2 = y.copy()\n",
        "# y_train_2 = y_train_sub.copy()\n",
        "print(\"y_train_2 shape\", y_train_2.shape)\n",
        "inp = keras.layers.Input(shape=X_train_2.shape[1:])\n",
        "hidden1 = keras.layers.Dense(30, activation=\"relu\")(inp)\n",
        "# hidden2 = keras.layers.Dense(30, activation=\"relu\")(hidden1)\n",
        "# concat = keras.layers.concatenate([input_, hidden1])\n",
        "output = keras.layers.Dense(24)(hidden1)\n",
        "model = keras.models.Model(inputs=[inp], outputs=[output])"
      ],
      "execution_count": 248,
      "outputs": [
        {
          "output_type": "stream",
          "text": [
            "y_train_2 shape (20591, 24)\n"
          ],
          "name": "stdout"
        }
      ]
    },
    {
      "cell_type": "code",
      "metadata": {
        "id": "rkQUgWwV9Ikz",
        "colab_type": "code",
        "colab": {}
      },
      "source": [
        "# X_val_2 = np.reshape(X_val_2, (6864, 28*28))\n",
        "# print(X_val_2.shape)"
      ],
      "execution_count": 0,
      "outputs": []
    },
    {
      "cell_type": "code",
      "metadata": {
        "id": "6dxGCZ0y-BK4",
        "colab_type": "code",
        "outputId": "b73c0b92-3d9b-4c43-c371-754a32823add",
        "colab": {
          "base_uri": "https://localhost:8080/",
          "height": 1000
        }
      },
      "source": [
        "print(y_val_2.shape)\n",
        "learning_rate = 0.3\n",
        "model.compile(loss=\"mean_squared_error\", optimizer=keras.optimizers.SGD(lr=learning_rate), metrics = [\"accuracy\"])\n",
        "history = model.fit(X_train_2, y_train_2, epochs=40, validation_data=(X_val_2, y_val_2))"
      ],
      "execution_count": 250,
      "outputs": [
        {
          "output_type": "stream",
          "text": [
            "(6864, 24)\n",
            "Train on 20591 samples, validate on 6864 samples\n",
            "Epoch 1/40\n",
            "20591/20591 [==============================] - 2s 92us/step - loss: 0.0444 - acc: 0.0421 - val_loss: 0.0399 - val_acc: 0.0408\n",
            "Epoch 2/40\n",
            "20591/20591 [==============================] - 1s 56us/step - loss: 0.0399 - acc: 0.0442 - val_loss: 0.0399 - val_acc: 0.0459\n",
            "Epoch 3/40\n",
            "20591/20591 [==============================] - 1s 55us/step - loss: 0.0399 - acc: 0.0451 - val_loss: 0.0399 - val_acc: 0.0473\n",
            "Epoch 4/40\n",
            "20591/20591 [==============================] - 1s 56us/step - loss: 0.0399 - acc: 0.0444 - val_loss: 0.0399 - val_acc: 0.0473\n",
            "Epoch 5/40\n",
            "20591/20591 [==============================] - 1s 55us/step - loss: 0.0399 - acc: 0.0460 - val_loss: 0.0399 - val_acc: 0.0420\n",
            "Epoch 6/40\n",
            "20591/20591 [==============================] - 1s 56us/step - loss: 0.0399 - acc: 0.0446 - val_loss: 0.0399 - val_acc: 0.0437\n",
            "Epoch 7/40\n",
            "20591/20591 [==============================] - 1s 57us/step - loss: 0.0399 - acc: 0.0464 - val_loss: 0.0399 - val_acc: 0.0452\n",
            "Epoch 8/40\n",
            "20591/20591 [==============================] - 1s 55us/step - loss: 0.0399 - acc: 0.0434 - val_loss: 0.0399 - val_acc: 0.0472\n",
            "Epoch 9/40\n",
            "20591/20591 [==============================] - 1s 57us/step - loss: 0.0399 - acc: 0.0457 - val_loss: 0.0399 - val_acc: 0.0472\n",
            "Epoch 10/40\n",
            "20591/20591 [==============================] - 1s 57us/step - loss: 0.0399 - acc: 0.0436 - val_loss: 0.0399 - val_acc: 0.0460\n",
            "Epoch 11/40\n",
            "20591/20591 [==============================] - 1s 57us/step - loss: 0.0399 - acc: 0.0434 - val_loss: 0.0399 - val_acc: 0.0446\n",
            "Epoch 12/40\n",
            "20591/20591 [==============================] - 1s 56us/step - loss: 0.0399 - acc: 0.0469 - val_loss: 0.0399 - val_acc: 0.0436\n",
            "Epoch 13/40\n",
            "20591/20591 [==============================] - 1s 57us/step - loss: 0.0399 - acc: 0.0446 - val_loss: 0.0399 - val_acc: 0.0472\n",
            "Epoch 14/40\n",
            "20591/20591 [==============================] - 1s 56us/step - loss: 0.0399 - acc: 0.0432 - val_loss: 0.0399 - val_acc: 0.0460\n",
            "Epoch 15/40\n",
            "20591/20591 [==============================] - 1s 57us/step - loss: 0.0399 - acc: 0.0453 - val_loss: 0.0399 - val_acc: 0.0472\n",
            "Epoch 16/40\n",
            "20591/20591 [==============================] - 1s 57us/step - loss: 0.0399 - acc: 0.0457 - val_loss: 0.0399 - val_acc: 0.0472\n",
            "Epoch 17/40\n",
            "20591/20591 [==============================] - 1s 56us/step - loss: 0.0399 - acc: 0.0434 - val_loss: 0.0399 - val_acc: 0.0460\n",
            "Epoch 18/40\n",
            "20591/20591 [==============================] - 1s 56us/step - loss: 0.0399 - acc: 0.0443 - val_loss: 0.0399 - val_acc: 0.0460\n",
            "Epoch 19/40\n",
            "20591/20591 [==============================] - 1s 56us/step - loss: 0.0399 - acc: 0.0440 - val_loss: 0.0399 - val_acc: 0.0472\n",
            "Epoch 20/40\n",
            "20591/20591 [==============================] - 1s 56us/step - loss: 0.0399 - acc: 0.0439 - val_loss: 0.0399 - val_acc: 0.0422\n",
            "Epoch 21/40\n",
            "20591/20591 [==============================] - 1s 58us/step - loss: 0.0399 - acc: 0.0440 - val_loss: 0.0399 - val_acc: 0.0424\n",
            "Epoch 22/40\n",
            "20591/20591 [==============================] - 1s 57us/step - loss: 0.0399 - acc: 0.0467 - val_loss: 0.0399 - val_acc: 0.0472\n",
            "Epoch 23/40\n",
            "20591/20591 [==============================] - 1s 58us/step - loss: 0.0399 - acc: 0.0423 - val_loss: 0.0399 - val_acc: 0.0472\n",
            "Epoch 24/40\n",
            "20591/20591 [==============================] - 1s 56us/step - loss: 0.0399 - acc: 0.0425 - val_loss: 0.0400 - val_acc: 0.0452\n",
            "Epoch 25/40\n",
            "20591/20591 [==============================] - 1s 57us/step - loss: 0.0399 - acc: 0.0437 - val_loss: 0.0399 - val_acc: 0.0436\n",
            "Epoch 26/40\n",
            "20591/20591 [==============================] - 1s 57us/step - loss: 0.0399 - acc: 0.0432 - val_loss: 0.0399 - val_acc: 0.0417\n",
            "Epoch 27/40\n",
            "20591/20591 [==============================] - 1s 57us/step - loss: 0.0399 - acc: 0.0435 - val_loss: 0.0399 - val_acc: 0.0462\n",
            "Epoch 28/40\n",
            "20591/20591 [==============================] - 1s 56us/step - loss: 0.0399 - acc: 0.0423 - val_loss: 0.0399 - val_acc: 0.0460\n",
            "Epoch 29/40\n",
            "20591/20591 [==============================] - 1s 57us/step - loss: 0.0399 - acc: 0.0440 - val_loss: 0.0399 - val_acc: 0.0439\n",
            "Epoch 30/40\n",
            "20591/20591 [==============================] - 1s 55us/step - loss: 0.0399 - acc: 0.0443 - val_loss: 0.0399 - val_acc: 0.0460\n",
            "Epoch 31/40\n",
            "20591/20591 [==============================] - 1s 56us/step - loss: 0.0399 - acc: 0.0454 - val_loss: 0.0399 - val_acc: 0.0437\n",
            "Epoch 32/40\n",
            "20591/20591 [==============================] - 1s 56us/step - loss: 0.0399 - acc: 0.0439 - val_loss: 0.0399 - val_acc: 0.0439\n",
            "Epoch 33/40\n",
            "20591/20591 [==============================] - 1s 56us/step - loss: 0.0399 - acc: 0.0448 - val_loss: 0.0399 - val_acc: 0.0452\n",
            "Epoch 34/40\n",
            "20591/20591 [==============================] - 1s 57us/step - loss: 0.0399 - acc: 0.0430 - val_loss: 0.0399 - val_acc: 0.0472\n",
            "Epoch 35/40\n",
            "20591/20591 [==============================] - 1s 58us/step - loss: 0.0399 - acc: 0.0440 - val_loss: 0.0399 - val_acc: 0.0447\n",
            "Epoch 36/40\n",
            "20591/20591 [==============================] - 1s 58us/step - loss: 0.0399 - acc: 0.0463 - val_loss: 0.0399 - val_acc: 0.0462\n",
            "Epoch 37/40\n",
            "20591/20591 [==============================] - 1s 57us/step - loss: 0.0399 - acc: 0.0454 - val_loss: 0.0399 - val_acc: 0.0462\n",
            "Epoch 38/40\n",
            "20591/20591 [==============================] - 1s 57us/step - loss: 0.0399 - acc: 0.0440 - val_loss: 0.0399 - val_acc: 0.0437\n",
            "Epoch 39/40\n",
            "20591/20591 [==============================] - 1s 56us/step - loss: 0.0399 - acc: 0.0431 - val_loss: 0.0399 - val_acc: 0.0424\n",
            "Epoch 40/40\n",
            "20591/20591 [==============================] - 1s 58us/step - loss: 0.0399 - acc: 0.0437 - val_loss: 0.0399 - val_acc: 0.0460\n"
          ],
          "name": "stdout"
        }
      ]
    },
    {
      "cell_type": "code",
      "metadata": {
        "id": "sTnk-_iV6Han",
        "colab_type": "code",
        "outputId": "0153ba74-e79f-42ea-cc93-fe889c4f268c",
        "colab": {
          "base_uri": "https://localhost:8080/",
          "height": 34
        }
      },
      "source": [
        "print(y_test.shape)\n",
        "X_test_2 = np.reshape(X_test, (7172, 28*28))\n",
        "y_test_2 = np.reshape(y_test_dummies, (y_test_dummies.shape[0], 24))\n",
        "# history = model.fit(X_train_2, y_train_2, epochs=40, validation_data=(X_test_2, y_test_2))"
      ],
      "execution_count": 251,
      "outputs": [
        {
          "output_type": "stream",
          "text": [
            "(7172,)\n"
          ],
          "name": "stdout"
        }
      ]
    },
    {
      "cell_type": "code",
      "metadata": {
        "id": "UVEu2-2kZf4a",
        "colab_type": "code",
        "colab": {
          "base_uri": "https://localhost:8080/",
          "height": 68
        },
        "outputId": "a6734b65-b695-445e-e486-51ede38f25a7"
      },
      "source": [
        "score = model.evaluate(X_test_2, y_test_dummies, verbose=1)\n",
        "print(\"Our simple Neural Network's test loss: \", score[0])\n",
        "print(\"Our simple Neural Network's test accuracy:\", score[1])"
      ],
      "execution_count": 255,
      "outputs": [
        {
          "output_type": "stream",
          "text": [
            "7172/7172 [==============================] - 0s 27us/step\n",
            "Our simple Neural Network's test loss:  0.04001228104522623\n",
            "Our simple Neural Network's test accuracy: 0.022587841606246516\n"
          ],
          "name": "stdout"
        }
      ]
    },
    {
      "cell_type": "markdown",
      "metadata": {
        "id": "YJki-MxT_86O",
        "colab_type": "text"
      },
      "source": [
        "# **Model 4 - Random Forest Classifier.** Below is our Random Forest Classifier whose performance is also atrocious. "
      ]
    },
    {
      "cell_type": "code",
      "metadata": {
        "id": "M_Xzrfpw8o4u",
        "colab_type": "code",
        "outputId": "ebc444ea-03ad-4519-cde7-d064a7475f45",
        "colab": {
          "base_uri": "https://localhost:8080/",
          "height": 136
        }
      },
      "source": [
        "# MY ATTEMPT AT A RANDOM FOREST CLASSIFIER\n",
        "# A random forest calssifier is a an ensemble of decision trees\n",
        "#   that are usually trained with bagging.\n",
        "#   Usually RFC train by splitting on the best feature\n",
        "#   but we can introduce extra randomness by searching\n",
        "#   for the best feature among a random subset of features\n",
        "#   this leads to greater tree diversity. This trades higher bias for lower variance\n",
        "from sklearn.ensemble import RandomForestClassifier\n",
        "\n",
        "random_classifier = RandomForestClassifier(n_estimators=500,\n",
        "                                           max_leaf_nodes=24,\n",
        "                                           n_jobs=-1,\n",
        "                                           random_state=42)\n",
        "# history = random_classifier.fit(X_train_2,y_train_2, validation_data=(X_test_2, y_test_2))\n",
        "random_classifier.fit(X_train_2,y_train_2)"
      ],
      "execution_count": 256,
      "outputs": [
        {
          "output_type": "execute_result",
          "data": {
            "text/plain": [
              "RandomForestClassifier(bootstrap=True, class_weight=None, criterion='gini',\n",
              "                       max_depth=None, max_features='auto', max_leaf_nodes=30,\n",
              "                       min_impurity_decrease=0.0, min_impurity_split=None,\n",
              "                       min_samples_leaf=1, min_samples_split=2,\n",
              "                       min_weight_fraction_leaf=0.0, n_estimators=500,\n",
              "                       n_jobs=-1, oob_score=False, random_state=42, verbose=0,\n",
              "                       warm_start=False)"
            ]
          },
          "metadata": {
            "tags": []
          },
          "execution_count": 256
        }
      ]
    },
    {
      "cell_type": "code",
      "metadata": {
        "id": "YiM5v9kJBIzD",
        "colab_type": "code",
        "outputId": "dca15e54-6830-4a57-d189-8dace409d2e6",
        "colab": {
          "base_uri": "https://localhost:8080/",
          "height": 51
        }
      },
      "source": [
        "rando_predict = random_classifier.predict(X_test_2)\n",
        "rando_predict_train = random_classifier.predict(X_train_2)\n",
        "print(\"Our Random Forest Classifier's Train Accuracy:  \", accuracy_score(y_train_2, rando_predict_train))\n",
        "print(\"Our Random Forest Classifier's Test Accuracy:  \", accuracy_score(y_test_2, rando_predict))"
      ],
      "execution_count": 257,
      "outputs": [
        {
          "output_type": "stream",
          "text": [
            "Our Random Forest Classifier's Train Accuracy:   0.0\n",
            "Our Random Forest Classifier's Test Accuracy:   0.0\n"
          ],
          "name": "stdout"
        }
      ]
    },
    {
      "cell_type": "markdown",
      "metadata": {
        "id": "GenOF2yN_38t",
        "colab_type": "text"
      },
      "source": [
        "# **Model 5 - Bagging Classifier.** Below is our Bagging Classifier that has a test accuracy of 69.9%"
      ]
    },
    {
      "cell_type": "code",
      "metadata": {
        "id": "KK5HpxiU_8A6",
        "colab_type": "code",
        "colab": {
          "base_uri": "https://localhost:8080/",
          "height": 34
        },
        "outputId": "038c8518-5d20-4e52-961e-57e7cf5ec36b"
      },
      "source": [
        "# MY ATTEMPT AT A BAGGING CLASSIFIER\n",
        "# BAGGING TAKES RANDOM SAMPLES FROM THE TRAINING SET\n",
        "# AND TRAINS ON THOSE, AND PUTS THOSE SAMPLES BACK\n",
        "# IT DOES THIS MULTIPLE TIMES SO THAT IT TRAINS MULTIPLE MODELS\n",
        "# THEN USES THE VOTES FROM ALL THESE MODELS TO DECIDE OUTPUT\n",
        "from sklearn.ensemble import BaggingClassifier\n",
        "from sklearn.tree import DecisionTreeClassifier\n",
        "# print(X_train_2.shape)\n",
        "X_test_2 = np.reshape(X_test, (7172, 28*28))\n",
        "X_train_sub_2 = np.reshape(X_train_sub, (20591, 28**2))\n",
        "bagging_classifier = BaggingClassifier(\n",
        "    DecisionTreeClassifier(random_state=42), n_estimators=500,\n",
        "                           max_samples=1000, bootstrap=True, n_jobs=-1,\n",
        "                           random_state=42)\n",
        "bagging_classifier.fit(X_train_sub_2, y_train_sub)\n",
        "y_pred_bag = bagging_classifier.predict(X_test_2)\n",
        "print(\"Our Bagging Classifier's Test Accuracy:  \", accuracy_score(y_test, y_pred_bag))"
      ],
      "execution_count": 268,
      "outputs": [
        {
          "output_type": "stream",
          "text": [
            "Our Bagging Classifier's Test Accuracy:   0.6985499163413273\n"
          ],
          "name": "stdout"
        }
      ]
    },
    {
      "cell_type": "code",
      "metadata": {
        "id": "QjiOXHyqfBY6",
        "colab_type": "code",
        "colab": {
          "base_uri": "https://localhost:8080/",
          "height": 34
        },
        "outputId": "32ebf1c9-f722-478a-e86d-30bb882fefe0"
      },
      "source": [
        "print(X_test.shape)"
      ],
      "execution_count": 267,
      "outputs": [
        {
          "output_type": "stream",
          "text": [
            "(7172, 28, 28, 1)\n"
          ],
          "name": "stdout"
        }
      ]
    },
    {
      "cell_type": "markdown",
      "metadata": {
        "id": "-q7BcReJ_yAi",
        "colab_type": "text"
      },
      "source": [
        "# **Model 6 - Voting Classifier.** Below is our Voting Classifier that achieved test accuracy of 74.1%"
      ]
    },
    {
      "cell_type": "code",
      "metadata": {
        "id": "yv30Pttg_H1-",
        "colab_type": "code",
        "colab": {
          "base_uri": "https://localhost:8080/",
          "height": 190
        },
        "outputId": "d4448545-0e30-4fc5-e4d2-d13e0f213680"
      },
      "source": [
        "# OUR ATTEMPT AT A SOFT VOTING CLASSIFIER\n",
        "from sklearn.ensemble import VotingClassifier\n",
        "from sklearn.linear_model import LogisticRegression\n",
        "from sklearn.svm import SVC\n",
        "log_clf = LogisticRegression(random_state=42)\n",
        "rnd_clf = RandomForestClassifier(random_state=42)\n",
        "svm_clf = SVC(probability=True, random_state=42)\n",
        "\n",
        "voting_clf = VotingClassifier(\n",
        "    estimators=[('lr', log_clf), \n",
        "                ('rf', rnd_clf),\n",
        "                ('svc', svm_clf)],\n",
        "                voting='soft')\n",
        "voting_clf.fit(X_train_sub_2, y_train_sub)\n",
        "vote_pred = voting_clf.predict(X_test_2)\n",
        "print(\"Our Voting Classifier's Test Accuracy:\", accuracy_score(y_test, vote_pred))"
      ],
      "execution_count": 271,
      "outputs": [
        {
          "output_type": "stream",
          "text": [
            "/usr/local/lib/python3.6/dist-packages/sklearn/linear_model/logistic.py:432: FutureWarning: Default solver will be changed to 'lbfgs' in 0.22. Specify a solver to silence this warning.\n",
            "  FutureWarning)\n",
            "/usr/local/lib/python3.6/dist-packages/sklearn/linear_model/logistic.py:469: FutureWarning: Default multi_class will be changed to 'auto' in 0.22. Specify the multi_class option to silence this warning.\n",
            "  \"this warning.\", FutureWarning)\n",
            "/usr/local/lib/python3.6/dist-packages/sklearn/ensemble/forest.py:245: FutureWarning: The default value of n_estimators will change from 10 in version 0.20 to 100 in 0.22.\n",
            "  \"10 in version 0.20 to 100 in 0.22.\", FutureWarning)\n",
            "/usr/local/lib/python3.6/dist-packages/sklearn/svm/base.py:193: FutureWarning: The default value of gamma will change from 'auto' to 'scale' in version 0.22 to account better for unscaled features. Set gamma explicitly to 'auto' or 'scale' to avoid this warning.\n",
            "  \"avoid this warning.\", FutureWarning)\n"
          ],
          "name": "stderr"
        },
        {
          "output_type": "stream",
          "text": [
            "Our Voting Classifier's Test Accuracy: 0.7409369771332962\n"
          ],
          "name": "stdout"
        }
      ]
    },
    {
      "cell_type": "markdown",
      "metadata": {
        "id": "UP_JPmQn_kzb",
        "colab_type": "text"
      },
      "source": [
        "# **Predicting Images Examples.** Below we present two examples of the Voting Classifier correctly predicting labels. "
      ]
    },
    {
      "cell_type": "code",
      "metadata": {
        "id": "nS9JmMcm8yPQ",
        "colab_type": "code",
        "colab": {
          "base_uri": "https://localhost:8080/",
          "height": 281
        },
        "outputId": "4760a2e2-e6b7-46c9-9efa-37ca852e94c0"
      },
      "source": [
        "from matplotlib import pyplot as plt\n",
        "categories = ['A','B','C','D','E','F',\n",
        "              'G','H','I','J','K','L','M','N',\n",
        "              'O','P','Q','R','S','T','U','V',\n",
        "              'W','X','Y','Z']\n",
        "indy = 2\n",
        "image = X_test[indy]\n",
        "image = image.squeeze()\n",
        "plt.figure()\n",
        "plt.title('This is a %s.' % categories[y_test[indy]])\n",
        "plt.imshow(image); plt.grid(False); plt.axis('off'); plt.show()\n",
        "print('And the model predicts it as a', categories[vote_pred[indy]])"
      ],
      "execution_count": 290,
      "outputs": [
        {
          "output_type": "display_data",
          "data": {
            "image/png": "[encoded data removed]",
            "text/plain": [
              "<Figure size 432x288 with 1 Axes>"
            ]
          },
          "metadata": {
            "tags": []
          }
        },
        {
          "output_type": "stream",
          "text": [
            "And the model predicts it as a K\n"
          ],
          "name": "stdout"
        }
      ]
    },
    {
      "cell_type": "code",
      "metadata": {
        "id": "zs_X_5kb_Q5B",
        "colab_type": "code",
        "colab": {
          "base_uri": "https://localhost:8080/",
          "height": 281
        },
        "outputId": "0ad896aa-7f90-493e-f0d0-34a2dd6a88a7"
      },
      "source": [
        "indy = 4\n",
        "image = X_test[indy]\n",
        "image = image.squeeze()\n",
        "plt.figure()\n",
        "plt.title('This is a %s.' % categories[y_test[indy]])\n",
        "plt.imshow(image); plt.grid(False); plt.axis('off'); plt.show()\n",
        "print('And the model predicts it as a', categories[vote_pred[indy]])"
      ],
      "execution_count": 293,
      "outputs": [
        {
          "output_type": "display_data",
          "data": {
            "image/png": "[encoded data removed]",
            "text/plain": [
              "<Figure size 432x288 with 1 Axes>"
            ]
          },
          "metadata": {
            "tags": []
          }
        },
        {
          "output_type": "stream",
          "text": [
            "And the model predicts it as a D\n"
          ],
          "name": "stdout"
        }
      ]
    },
    {
      "cell_type": "markdown",
      "metadata": {
        "id": "LicthuQ8_q7L",
        "colab_type": "text"
      },
      "source": [
        "And below we have two examples where the Voting Classifier incorrectly predicts the label."
      ]
    },
    {
      "cell_type": "code",
      "metadata": {
        "id": "jtjGAC0M_VMY",
        "colab_type": "code",
        "colab": {
          "base_uri": "https://localhost:8080/",
          "height": 281
        },
        "outputId": "998c406a-21cb-488a-ba81-0a3d120e8278"
      },
      "source": [
        "indy = 5\n",
        "image = X_test[indy]\n",
        "image = image.squeeze()\n",
        "plt.figure()\n",
        "plt.title('This is a %s.' % categories[y_test[indy]])\n",
        "plt.imshow(image); plt.grid(False); plt.axis('off'); plt.show()\n",
        "print('And the model predicts it as a', categories[vote_pred[indy]])"
      ],
      "execution_count": 294,
      "outputs": [
        {
          "output_type": "display_data",
          "data": {
            "image/png": "[encoded data removed]",
            "text/plain": [
              "<Figure size 432x288 with 1 Axes>"
            ]
          },
          "metadata": {
            "tags": []
          }
        },
        {
          "output_type": "stream",
          "text": [
            "And the model predicts it as a W\n"
          ],
          "name": "stdout"
        }
      ]
    },
    {
      "cell_type": "code",
      "metadata": {
        "id": "CXgwMknx_Wd0",
        "colab_type": "code",
        "colab": {
          "base_uri": "https://localhost:8080/",
          "height": 281
        },
        "outputId": "44678d8f-4bc1-4e52-db0b-fc91d8422aca"
      },
      "source": [
        "indy = 12\n",
        "image = X_test[indy]\n",
        "image = image.squeeze()\n",
        "plt.figure()\n",
        "plt.title('This is a %s.' % categories[y_test[indy]])\n",
        "plt.imshow(image); plt.grid(False); plt.axis('off'); plt.show()\n",
        "print('And the model predicts it as a', categories[vote_pred[indy]])"
      ],
      "execution_count": 302,
      "outputs": [
        {
          "output_type": "display_data",
          "data": {
            "image/png": "[encoded data removed]",
            "text/plain": [
              "<Figure size 432x288 with 1 Axes>"
            ]
          },
          "metadata": {
            "tags": []
          }
        },
        {
          "output_type": "stream",
          "text": [
            "And the model predicts it as a R\n"
          ],
          "name": "stdout"
        }
      ]
    }
  ]
}